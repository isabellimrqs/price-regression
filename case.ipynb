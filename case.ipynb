{
 "cells": [
  {
   "cell_type": "markdown",
   "metadata": {},
   "source": [
    "# BOOTCAMP AI GS\n",
    "\n",
    "## Case 2\n",
    "\n",
    "Seu time faz parte de uma start-up de grande sucesso no setor de aluguel\n",
    "de casas para curtas durações. A plataforma vem experimentando um crescimento\n",
    "significativo, com o site e o aplicativo atraindo cada vez mais usuários.\n",
    "\n",
    "Atualmente, o mercado principal da empresa é a Europa, onde a oferta de\n",
    "acomodações continua aumentando. Com esse crescimento acelerado, a demanda\n",
    "por decisões baseadas em dados tem se intensificado, tanto para análises preditivas\n",
    "quanto prescritivas.\n",
    "Neste momento de expansão, foi criada uma equipe, a de Data Product\n",
    "Management.\n",
    "\n",
    "### Objetivo\n",
    " O primeiro objetivo dessa equipe é entregar um produto de dados: um\n",
    "modelo de regressão capaz de prever o valor esperado do aluguel com base em\n",
    "informações sobre a acomodação (como número máximo de pessoas, quantidade de\n",
    "quartos, distância ao centro da cidade, latitude, longitude, dia da semana, entre outras\n",
    "features).\n"
   ]
  },
  {
   "cell_type": "markdown",
   "metadata": {},
   "source": [
    "### Análise Exploratória"
   ]
  },
  {
   "cell_type": "markdown",
   "metadata": {},
   "source": [
    "Importando as bibliotecas"
   ]
  },
  {
   "cell_type": "code",
   "execution_count": 1,
   "metadata": {},
   "outputs": [],
   "source": [
    "import pandas as pd\n",
    "from sklearn.model_selection import train_test_split"
   ]
  },
  {
   "cell_type": "markdown",
   "metadata": {},
   "source": [
    "Leitura das tabelas"
   ]
  },
  {
   "cell_type": "code",
   "execution_count": 2,
   "metadata": {},
   "outputs": [],
   "source": [
    "df_barcelona_weekdays =  pd.read_csv('data/barcelona_weekdays.csv')\n",
    "df_barcelona_weekends=  pd.read_csv('data/barcelona_weekends.csv')\n",
    "\n",
    "df_berlin_weekdays =  pd.read_csv('data/berlin_weekdays.csv')\n",
    "df_berlin_weekends =  pd.read_csv('data/berlin_weekends.csv')\n",
    "\n",
    "df_paris_weekdays =  pd.read_csv('data/barcelona_weekdays.csv')\n",
    "df_paris_weekends =  pd.read_csv('data/barcelona_weekends.csv')"
   ]
  },
  {
   "cell_type": "code",
   "execution_count": 4,
   "metadata": {},
   "outputs": [],
   "source": [
    "# Incluindo o tipo de dia\n",
    "\n",
    "df_barcelona_weekdays[\"type\"] = \"weekdays\"\n",
    "df_berlin_weekdays[\"type\"] = \"weekdays\"\n",
    "df_paris_weekdays[\"type\"] = \"weekdays\"\n",
    "\n",
    "df_barcelona_weekends[\"type\"] = \"weekends\"\n",
    "df_berlin_weekends[\"type\"] = \"weekends\"\n",
    "df_paris_weekends[\"type\"] = \"weekends\"\n",
    "\n",
    "# Incluindo o nome da cidade\n",
    "\n",
    "df_barcelona_weekdays[\"city\"] = \"barcelona\"\n",
    "df_barcelona_weekends[\"city\"] = \"barcelona\"\n",
    "\n",
    "df_berlin_weekdays[\"city\"] = \"berlin\"\n",
    "df_berlin_weekends[\"city\"] = \"berlin\"\n",
    "\n",
    "df_paris_weekdays[\"city\"] = \"paris\"\n",
    "df_paris_weekends[\"city\"] = \"paris\"\n",
    "\n"
   ]
  },
  {
   "cell_type": "markdown",
   "metadata": {},
   "source": [
    "Concatenando para um só dataset"
   ]
  },
  {
   "cell_type": "code",
   "execution_count": 5,
   "metadata": {},
   "outputs": [],
   "source": [
    "df_original = pd.concat([df_barcelona_weekdays, df_berlin_weekdays, df_paris_weekdays, df_barcelona_weekends, df_berlin_weekends, df_paris_weekends])"
   ]
  },
  {
   "cell_type": "code",
   "execution_count": 19,
   "metadata": {},
   "outputs": [
    {
     "data": {
      "text/html": [
       "<div>\n",
       "<style scoped>\n",
       "    .dataframe tbody tr th:only-of-type {\n",
       "        vertical-align: middle;\n",
       "    }\n",
       "\n",
       "    .dataframe tbody tr th {\n",
       "        vertical-align: top;\n",
       "    }\n",
       "\n",
       "    .dataframe thead th {\n",
       "        text-align: right;\n",
       "    }\n",
       "</style>\n",
       "<table border=\"1\" class=\"dataframe\">\n",
       "  <thead>\n",
       "    <tr style=\"text-align: right;\">\n",
       "      <th></th>\n",
       "      <th>Unnamed: 0</th>\n",
       "      <th>realSum</th>\n",
       "      <th>room_type</th>\n",
       "      <th>room_shared</th>\n",
       "      <th>room_private</th>\n",
       "      <th>person_capacity</th>\n",
       "      <th>host_is_superhost</th>\n",
       "      <th>multi</th>\n",
       "      <th>biz</th>\n",
       "      <th>cleanliness_rating</th>\n",
       "      <th>...</th>\n",
       "      <th>dist</th>\n",
       "      <th>metro_dist</th>\n",
       "      <th>attr_index</th>\n",
       "      <th>attr_index_norm</th>\n",
       "      <th>rest_index</th>\n",
       "      <th>rest_index_norm</th>\n",
       "      <th>lng</th>\n",
       "      <th>lat</th>\n",
       "      <th>type</th>\n",
       "      <th>city</th>\n",
       "    </tr>\n",
       "  </thead>\n",
       "  <tbody>\n",
       "    <tr>\n",
       "      <th>0</th>\n",
       "      <td>0</td>\n",
       "      <td>474.317499</td>\n",
       "      <td>Entire home/apt</td>\n",
       "      <td>False</td>\n",
       "      <td>False</td>\n",
       "      <td>4.0</td>\n",
       "      <td>False</td>\n",
       "      <td>0</td>\n",
       "      <td>1</td>\n",
       "      <td>10.0</td>\n",
       "      <td>...</td>\n",
       "      <td>1.111996</td>\n",
       "      <td>0.630491</td>\n",
       "      <td>526.469420</td>\n",
       "      <td>17.942927</td>\n",
       "      <td>915.587083</td>\n",
       "      <td>20.154890</td>\n",
       "      <td>2.17556</td>\n",
       "      <td>41.39624</td>\n",
       "      <td>weekdays</td>\n",
       "      <td>barcelona</td>\n",
       "    </tr>\n",
       "    <tr>\n",
       "      <th>1</th>\n",
       "      <td>1</td>\n",
       "      <td>169.897829</td>\n",
       "      <td>Private room</td>\n",
       "      <td>False</td>\n",
       "      <td>True</td>\n",
       "      <td>2.0</td>\n",
       "      <td>True</td>\n",
       "      <td>1</td>\n",
       "      <td>0</td>\n",
       "      <td>10.0</td>\n",
       "      <td>...</td>\n",
       "      <td>1.751839</td>\n",
       "      <td>0.124017</td>\n",
       "      <td>320.127526</td>\n",
       "      <td>10.910462</td>\n",
       "      <td>794.277350</td>\n",
       "      <td>17.484489</td>\n",
       "      <td>2.14906</td>\n",
       "      <td>41.38714</td>\n",
       "      <td>weekdays</td>\n",
       "      <td>barcelona</td>\n",
       "    </tr>\n",
       "    <tr>\n",
       "      <th>2</th>\n",
       "      <td>2</td>\n",
       "      <td>161.984779</td>\n",
       "      <td>Private room</td>\n",
       "      <td>False</td>\n",
       "      <td>True</td>\n",
       "      <td>4.0</td>\n",
       "      <td>False</td>\n",
       "      <td>0</td>\n",
       "      <td>1</td>\n",
       "      <td>9.0</td>\n",
       "      <td>...</td>\n",
       "      <td>1.670493</td>\n",
       "      <td>0.080322</td>\n",
       "      <td>344.073936</td>\n",
       "      <td>11.726595</td>\n",
       "      <td>840.673617</td>\n",
       "      <td>18.505814</td>\n",
       "      <td>2.15357</td>\n",
       "      <td>41.37859</td>\n",
       "      <td>weekdays</td>\n",
       "      <td>barcelona</td>\n",
       "    </tr>\n",
       "    <tr>\n",
       "      <th>3</th>\n",
       "      <td>3</td>\n",
       "      <td>367.956804</td>\n",
       "      <td>Entire home/apt</td>\n",
       "      <td>False</td>\n",
       "      <td>False</td>\n",
       "      <td>3.0</td>\n",
       "      <td>False</td>\n",
       "      <td>0</td>\n",
       "      <td>1</td>\n",
       "      <td>10.0</td>\n",
       "      <td>...</td>\n",
       "      <td>1.475847</td>\n",
       "      <td>0.093107</td>\n",
       "      <td>400.057449</td>\n",
       "      <td>13.634603</td>\n",
       "      <td>946.589884</td>\n",
       "      <td>20.837357</td>\n",
       "      <td>2.16839</td>\n",
       "      <td>41.37390</td>\n",
       "      <td>weekdays</td>\n",
       "      <td>barcelona</td>\n",
       "    </tr>\n",
       "    <tr>\n",
       "      <th>4</th>\n",
       "      <td>4</td>\n",
       "      <td>196.895292</td>\n",
       "      <td>Private room</td>\n",
       "      <td>False</td>\n",
       "      <td>True</td>\n",
       "      <td>3.0</td>\n",
       "      <td>False</td>\n",
       "      <td>1</td>\n",
       "      <td>0</td>\n",
       "      <td>9.0</td>\n",
       "      <td>...</td>\n",
       "      <td>1.855452</td>\n",
       "      <td>0.272486</td>\n",
       "      <td>346.042245</td>\n",
       "      <td>11.793678</td>\n",
       "      <td>792.296039</td>\n",
       "      <td>17.440874</td>\n",
       "      <td>2.15238</td>\n",
       "      <td>41.37699</td>\n",
       "      <td>weekdays</td>\n",
       "      <td>barcelona</td>\n",
       "    </tr>\n",
       "  </tbody>\n",
       "</table>\n",
       "<p>5 rows × 22 columns</p>\n",
       "</div>"
      ],
      "text/plain": [
       "   Unnamed: 0     realSum        room_type  room_shared  room_private  \\\n",
       "0           0  474.317499  Entire home/apt        False         False   \n",
       "1           1  169.897829     Private room        False          True   \n",
       "2           2  161.984779     Private room        False          True   \n",
       "3           3  367.956804  Entire home/apt        False         False   \n",
       "4           4  196.895292     Private room        False          True   \n",
       "\n",
       "   person_capacity  host_is_superhost  multi  biz  cleanliness_rating  ...  \\\n",
       "0              4.0              False      0    1                10.0  ...   \n",
       "1              2.0               True      1    0                10.0  ...   \n",
       "2              4.0              False      0    1                 9.0  ...   \n",
       "3              3.0              False      0    1                10.0  ...   \n",
       "4              3.0              False      1    0                 9.0  ...   \n",
       "\n",
       "       dist  metro_dist  attr_index  attr_index_norm  rest_index  \\\n",
       "0  1.111996    0.630491  526.469420        17.942927  915.587083   \n",
       "1  1.751839    0.124017  320.127526        10.910462  794.277350   \n",
       "2  1.670493    0.080322  344.073936        11.726595  840.673617   \n",
       "3  1.475847    0.093107  400.057449        13.634603  946.589884   \n",
       "4  1.855452    0.272486  346.042245        11.793678  792.296039   \n",
       "\n",
       "   rest_index_norm      lng       lat      type       city  \n",
       "0        20.154890  2.17556  41.39624  weekdays  barcelona  \n",
       "1        17.484489  2.14906  41.38714  weekdays  barcelona  \n",
       "2        18.505814  2.15357  41.37859  weekdays  barcelona  \n",
       "3        20.837357  2.16839  41.37390  weekdays  barcelona  \n",
       "4        17.440874  2.15238  41.37699  weekdays  barcelona  \n",
       "\n",
       "[5 rows x 22 columns]"
      ]
     },
     "execution_count": 19,
     "metadata": {},
     "output_type": "execute_result"
    }
   ],
   "source": [
    "df_original.head()"
   ]
  },
  {
   "cell_type": "code",
   "execution_count": 7,
   "metadata": {},
   "outputs": [
    {
     "data": {
      "text/plain": [
       "(8150, 22)"
      ]
     },
     "execution_count": 7,
     "metadata": {},
     "output_type": "execute_result"
    }
   ],
   "source": [
    "df_original.shape"
   ]
  },
  {
   "cell_type": "markdown",
   "metadata": {},
   "source": [
    "Tipos de Dados"
   ]
  },
  {
   "cell_type": "code",
   "execution_count": 10,
   "metadata": {},
   "outputs": [
    {
     "data": {
      "text/plain": [
       "Unnamed: 0                      int64\n",
       "realSum                       float64\n",
       "room_type                      object\n",
       "room_shared                      bool\n",
       "room_private                     bool\n",
       "person_capacity               float64\n",
       "host_is_superhost                bool\n",
       "multi                           int64\n",
       "biz                             int64\n",
       "cleanliness_rating            float64\n",
       "guest_satisfaction_overall    float64\n",
       "bedrooms                        int64\n",
       "dist                          float64\n",
       "metro_dist                    float64\n",
       "attr_index                    float64\n",
       "attr_index_norm               float64\n",
       "rest_index                    float64\n",
       "rest_index_norm               float64\n",
       "lng                           float64\n",
       "lat                           float64\n",
       "type                           object\n",
       "city                           object\n",
       "dtype: object"
      ]
     },
     "execution_count": 10,
     "metadata": {},
     "output_type": "execute_result"
    }
   ],
   "source": [
    "df_original.dtypes"
   ]
  },
  {
   "cell_type": "markdown",
   "metadata": {},
   "source": [
    "Valores Nulos"
   ]
  },
  {
   "cell_type": "code",
   "execution_count": 11,
   "metadata": {},
   "outputs": [
    {
     "data": {
      "text/plain": [
       "Unnamed: 0                    0\n",
       "realSum                       0\n",
       "room_type                     0\n",
       "room_shared                   0\n",
       "room_private                  0\n",
       "person_capacity               0\n",
       "host_is_superhost             0\n",
       "multi                         0\n",
       "biz                           0\n",
       "cleanliness_rating            0\n",
       "guest_satisfaction_overall    0\n",
       "bedrooms                      0\n",
       "dist                          0\n",
       "metro_dist                    0\n",
       "attr_index                    0\n",
       "attr_index_norm               0\n",
       "rest_index                    0\n",
       "rest_index_norm               0\n",
       "lng                           0\n",
       "lat                           0\n",
       "type                          0\n",
       "city                          0\n",
       "dtype: int64"
      ]
     },
     "execution_count": 11,
     "metadata": {},
     "output_type": "execute_result"
    }
   ],
   "source": [
    "df_original.isna().sum()"
   ]
  },
  {
   "cell_type": "code",
   "execution_count": 12,
   "metadata": {},
   "outputs": [
    {
     "data": {
      "text/plain": [
       "Unnamed: 0                    1555\n",
       "realSum                       1184\n",
       "room_type                        3\n",
       "room_shared                      2\n",
       "room_private                     2\n",
       "person_capacity                  5\n",
       "host_is_superhost                2\n",
       "multi                            2\n",
       "biz                              2\n",
       "cleanliness_rating               8\n",
       "guest_satisfaction_overall      42\n",
       "bedrooms                         7\n",
       "dist                          5317\n",
       "metro_dist                    5317\n",
       "attr_index                    5317\n",
       "attr_index_norm               5314\n",
       "rest_index                    5317\n",
       "rest_index_norm               5314\n",
       "lng                           2931\n",
       "lat                           2786\n",
       "type                             2\n",
       "city                             3\n",
       "dtype: int64"
      ]
     },
     "execution_count": 12,
     "metadata": {},
     "output_type": "execute_result"
    }
   ],
   "source": [
    "df_original.nunique()"
   ]
  },
  {
   "cell_type": "code",
   "execution_count": 20,
   "metadata": {},
   "outputs": [],
   "source": [
    "df = df_original.copy()\n",
    "\n",
    "continuous = []\n",
    "categorical = []\n",
    "\n",
    "for c in df.columns[:-2]:\n",
    "    if df.nunique()[c]>=30:\n",
    "        continuous.append(c)\n",
    "    else:\n",
    "        categorical.append(c)"
   ]
  },
  {
   "cell_type": "code",
   "execution_count": 21,
   "metadata": {},
   "outputs": [
    {
     "data": {
      "text/plain": [
       "['Unnamed: 0',\n",
       " 'realSum',\n",
       " 'guest_satisfaction_overall',\n",
       " 'dist',\n",
       " 'metro_dist',\n",
       " 'attr_index',\n",
       " 'attr_index_norm',\n",
       " 'rest_index',\n",
       " 'rest_index_norm',\n",
       " 'lng',\n",
       " 'lat']"
      ]
     },
     "execution_count": 21,
     "metadata": {},
     "output_type": "execute_result"
    }
   ],
   "source": [
    "continuous"
   ]
  },
  {
   "cell_type": "code",
   "execution_count": 22,
   "metadata": {},
   "outputs": [
    {
     "data": {
      "text/plain": [
       "['room_type',\n",
       " 'room_shared',\n",
       " 'room_private',\n",
       " 'person_capacity',\n",
       " 'host_is_superhost',\n",
       " 'multi',\n",
       " 'biz',\n",
       " 'cleanliness_rating',\n",
       " 'bedrooms']"
      ]
     },
     "execution_count": 22,
     "metadata": {},
     "output_type": "execute_result"
    }
   ],
   "source": [
    "categorical"
   ]
  }
 ],
 "metadata": {
  "kernelspec": {
   "display_name": "Python 3",
   "language": "python",
   "name": "python3"
  },
  "language_info": {
   "codemirror_mode": {
    "name": "ipython",
    "version": 3
   },
   "file_extension": ".py",
   "mimetype": "text/x-python",
   "name": "python",
   "nbconvert_exporter": "python",
   "pygments_lexer": "ipython3",
   "version": "3.13.2"
  }
 },
 "nbformat": 4,
 "nbformat_minor": 2
}
