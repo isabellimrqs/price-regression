{
 "cells": [
  {
   "cell_type": "markdown",
   "metadata": {},
   "source": [
    "# BOOTCAMP AI GS\n",
    "\n",
    "## Case 2\n",
    "\n",
    "Seu time faz parte de uma start-up de grande sucesso no setor de aluguel\n",
    "de casas para curtas durações. A plataforma vem experimentando um crescimento\n",
    "significativo, com o site e o aplicativo atraindo cada vez mais usuários.\n",
    "\n",
    "Atualmente, o mercado principal da empresa é a Europa, onde a oferta de\n",
    "acomodações continua aumentando. Com esse crescimento acelerado, a demanda\n",
    "por decisões baseadas em dados tem se intensificado, tanto para análises preditivas\n",
    "quanto prescritivas.\n",
    "Neste momento de expansão, foi criada uma equipe, a de Data Product\n",
    "Management.\n",
    "\n",
    "### Objetivo\n",
    " O primeiro objetivo dessa equipe é entregar um produto de dados: um\n",
    "modelo de regressão capaz de prever o valor esperado do aluguel com base em\n",
    "informações sobre a acomodação (como número máximo de pessoas, quantidade de\n",
    "quartos, distância ao centro da cidade, latitude, longitude, dia da semana, entre outras\n",
    "features).\n"
   ]
  },
  {
   "cell_type": "markdown",
   "metadata": {},
   "source": [
    "### Análise Exploratória"
   ]
  },
  {
   "cell_type": "markdown",
   "metadata": {},
   "source": [
    "Importando as bibliotecas"
   ]
  },
  {
   "cell_type": "code",
   "execution_count": null,
   "metadata": {},
   "outputs": [],
   "source": [
    "import pandas as pd\n",
    "import numpy as np\n",
    "import matplotlib.pyplot as plt \n",
    "import seaborn as sns\n",
    "from sklearn.model_selection import train_test_split\n",
    "from sklearn.preprocessing import OneHotEncoder, LabelEncoder\n",
    "from sklearn.linear_model import LinearRegression\n",
    "from sklearn.metrics import mean_absolute_error, r2_score\n"
   ]
  },
  {
   "cell_type": "markdown",
   "metadata": {},
   "source": [
    "Leitura das tabelas"
   ]
  },
  {
   "cell_type": "code",
   "execution_count": null,
   "metadata": {},
   "outputs": [],
   "source": [
    "df_barcelona_weekdays =  pd.read_csv('data/barcelona_weekdays.csv')\n",
    "df_barcelona_weekends=  pd.read_csv('data/barcelona_weekends.csv')\n",
    "\n",
    "df_berlin_weekdays =  pd.read_csv('data/berlin_weekdays.csv')\n",
    "df_berlin_weekends =  pd.read_csv('data/berlin_weekends.csv')\n",
    "\n",
    "df_paris_weekdays =  pd.read_csv('data/barcelona_weekdays.csv')\n",
    "df_paris_weekends =  pd.read_csv('data/barcelona_weekends.csv')"
   ]
  },
  {
   "cell_type": "markdown",
   "metadata": {},
   "source": [
    "Atribuindo colunas indicativas"
   ]
  },
  {
   "cell_type": "code",
   "execution_count": null,
   "metadata": {},
   "outputs": [],
   "source": [
    "# Incluindo o tipo de dia\n",
    "\n",
    "df_barcelona_weekdays[\"type\"] = \"weekdays\"\n",
    "df_berlin_weekdays[\"type\"] = \"weekdays\"\n",
    "df_paris_weekdays[\"type\"] = \"weekdays\"\n",
    "\n",
    "df_barcelona_weekends[\"type\"] = \"weekends\"\n",
    "df_berlin_weekends[\"type\"] = \"weekends\"\n",
    "df_paris_weekends[\"type\"] = \"weekends\"\n",
    "\n",
    "# Incluindo o nome da cidade\n",
    "\n",
    "df_barcelona_weekdays[\"city\"] = \"barcelona\"\n",
    "df_barcelona_weekends[\"city\"] = \"barcelona\"\n",
    "\n",
    "df_berlin_weekdays[\"city\"] = \"berlin\"\n",
    "df_berlin_weekends[\"city\"] = \"berlin\"\n",
    "\n",
    "df_paris_weekdays[\"city\"] = \"paris\"\n",
    "df_paris_weekends[\"city\"] = \"paris\"\n",
    "\n"
   ]
  },
  {
   "cell_type": "markdown",
   "metadata": {},
   "source": [
    "Concatenando para um só dataset"
   ]
  },
  {
   "cell_type": "code",
   "execution_count": null,
   "metadata": {},
   "outputs": [],
   "source": [
    "df_original = pd.concat([df_barcelona_weekdays, df_berlin_weekdays, df_paris_weekdays, df_barcelona_weekends, df_berlin_weekends, df_paris_weekends])"
   ]
  },
  {
   "cell_type": "code",
   "execution_count": null,
   "metadata": {},
   "outputs": [],
   "source": [
    "df_original.drop(df_original.columns[[0, 14, 16]], axis=1, inplace=True) "
   ]
  },
  {
   "cell_type": "code",
   "execution_count": null,
   "metadata": {},
   "outputs": [],
   "source": [
    "df_original.head()"
   ]
  },
  {
   "cell_type": "code",
   "execution_count": null,
   "metadata": {},
   "outputs": [],
   "source": [
    "df_original.shape"
   ]
  },
  {
   "cell_type": "markdown",
   "metadata": {},
   "source": [
    "Tipos de Dados"
   ]
  },
  {
   "cell_type": "code",
   "execution_count": null,
   "metadata": {},
   "outputs": [],
   "source": [
    "df_original.dtypes"
   ]
  },
  {
   "cell_type": "markdown",
   "metadata": {},
   "source": [
    "Valores Nulos"
   ]
  },
  {
   "cell_type": "code",
   "execution_count": null,
   "metadata": {},
   "outputs": [],
   "source": [
    "df_original.isna().sum()"
   ]
  },
  {
   "cell_type": "code",
   "execution_count": null,
   "metadata": {},
   "outputs": [],
   "source": [
    "df_original.nunique()"
   ]
  },
  {
   "cell_type": "code",
   "execution_count": null,
   "metadata": {},
   "outputs": [],
   "source": [
    "df = df_original.copy()\n",
    "\n",
    "continuous = []\n",
    "categorical = []\n",
    "\n",
    "for c in df.columns[:-2]:\n",
    "    if df.nunique()[c]>=30:\n",
    "        continuous.append(c)\n",
    "    else:\n",
    "        categorical.append(c)"
   ]
  },
  {
   "cell_type": "code",
   "execution_count": null,
   "metadata": {},
   "outputs": [],
   "source": [
    "continuous "
   ]
  },
  {
   "cell_type": "code",
   "execution_count": null,
   "metadata": {},
   "outputs": [],
   "source": [
    "df[categorical].head()"
   ]
  },
  {
   "cell_type": "code",
   "execution_count": null,
   "metadata": {},
   "outputs": [],
   "source": [
    "fig = plt.figure(figsize=(12,8))\n",
    "\n",
    "for i, col in enumerate(continuous):\n",
    "    plt.subplot(3,3,i+1)\n",
    "    df.boxplot(col)\n",
    "    plt.tight_layout()"
   ]
  },
  {
   "cell_type": "markdown",
   "metadata": {},
   "source": [
    "## Transformação logarítmica nos dados contínuos\n",
    "\n",
    "Reduz o impacto de outliers <br>\n",
    "Torna a distribuição mais normal <br>\n",
    "Facilita visualização e modelagem estatística "
   ]
  },
  {
   "cell_type": "code",
   "execution_count": null,
   "metadata": {},
   "outputs": [],
   "source": [
    "df[continuous] = np.log1p(1 + df[continuous])"
   ]
  },
  {
   "cell_type": "code",
   "execution_count": null,
   "metadata": {},
   "outputs": [],
   "source": [
    "fig = plt.figure(figsize=(12,8))\n",
    "\n",
    "for i, col in enumerate(continuous):\n",
    "    plt.subplot(3,3,i+1)\n",
    "    df.boxplot(col)\n",
    "    plt.tight_layout()"
   ]
  },
  {
   "cell_type": "markdown",
   "metadata": {},
   "source": [
    "### Mapa de correlação variáveis contínuas\n",
    "\n",
    "A correlação varia entre -1 e 1: <br>\n",
    " 0 - Nenhuma correlação (as variáveis não têm relação linear). <br>\n",
    "+1 - Correlação positiva (se A aumenta, B aumenta proporcionalmente). <br>\n",
    "-1 - Correlação negativa (se A aumenta, B diminui proporcionalmente). <br>\n",
    "\n",
    "### Escala comum para interpretação\n",
    "\n",
    "0.0 – 0.2 → Correlação muito fraca ou insignificante <br>\n",
    "0.2 – 0.4 → Correlação fraca <br>\n",
    "0.4 – 0.6 → Correlação moderada <br>\n",
    "0.6 – 0.8 → Correlação forte <br>\n",
    "0.8 – 1.0 → Correlação muito forte <br>"
   ]
  },
  {
   "cell_type": "code",
   "execution_count": null,
   "metadata": {},
   "outputs": [],
   "source": [
    "plt.figure(figsize=(8,8))\n",
    "\n",
    "sns.heatmap(df[['realSum',\n",
    "                'guest_satisfaction_overall',\n",
    "                'dist',\n",
    "                'metro_dist',\n",
    "                'attr_index_norm',\n",
    "                'rest_index_norm',\n",
    "                'lng',\n",
    "                'lat']].corr(), vmax = 1, square = True, cmap='coolwarm', annot=True  )\n"
   ]
  },
  {
   "cell_type": "code",
   "execution_count": null,
   "metadata": {},
   "outputs": [],
   "source": [
    "plt.figure(figsize=(10,12))\n",
    "\n",
    "sns.scatterplot(data=df, x='dist', y='realSum')\n",
    "plt.xlabel('Distância do centro (km)')\n",
    "plt.yticks(np.log1p([50, 100, 200, 500, 1000, 2000, 5000]), labels=[50, 100, 200, 500, 1000, 2000, 5000])\n",
    "plt.ylabel('Log(Preço)')\n",
    "plt.title('Relação entre Distância e Preço')"
   ]
  },
  {
   "cell_type": "code",
   "execution_count": null,
   "metadata": {},
   "outputs": [],
   "source": [
    "plt.figure(figsize=(8,8))\n",
    "\n",
    "sns.boxplot(x=df['realSum'])\n",
    "plt.xticks(np.log1p([50, 100, 500, 1000, 5000]), labels=[50, 100, 500, 1000, 5000])\n",
    "\n",
    "plt.title('Distribuição dos preços')"
   ]
  },
  {
   "cell_type": "code",
   "execution_count": null,
   "metadata": {},
   "outputs": [],
   "source": [
    "plt.figure(figsize=(8, 6))\n",
    "sns.boxplot(data=df, x=\"city\", y=\"realSum\") \n",
    "plt.yticks(np.log1p([50, 100, 500, 1000, 5000]), labels=[50, 100, 500, 1000, 5000])\n",
    "plt.title(\"Distribuição de Preços por Cidade\")\n"
   ]
  },
  {
   "cell_type": "code",
   "execution_count": null,
   "metadata": {},
   "outputs": [],
   "source": [
    "plt.figure(figsize=(8, 6))\n",
    "sns.boxplot(data=df, x=\"type\", y=\"realSum\")\n",
    "plt.xticks([0, 1], [\"Dia útil\", \"Fim de semana\"])\n",
    "plt.title(\"Preços em Dias Úteis vs. Fim de Semana\")\n",
    "plt.xlabel(\"Período\")\n",
    "plt.ylabel(\"Preço (€)\")\n",
    "plt.show()"
   ]
  },
  {
   "cell_type": "code",
   "execution_count": null,
   "metadata": {},
   "outputs": [],
   "source": [
    "plt.figure(figsize=(8, 5))\n",
    "sns.barplot(data=df, x=\"city\", y=\"cleanliness_rating\")\n",
    "plt.title(\"Taxa de Limpeza por Cidade\")\n"
   ]
  },
  {
   "cell_type": "code",
   "execution_count": null,
   "metadata": {},
   "outputs": [],
   "source": [
    "plt.xlabel(\"Tipos de Local\")\n",
    "sns.countplot(x=df['room_type'])\n",
    "plt.show()"
   ]
  },
  {
   "cell_type": "code",
   "execution_count": null,
   "metadata": {},
   "outputs": [],
   "source": [
    "labels = ['Quarto Privado', 'Casa/Ap Completo', 'Quarto Compartilhado']\n",
    "plt.title(\"Tipos de Local\")\n",
    "plt.pie(df['room_type'].value_counts(), labels = labels, autopct=\"%.2f%%\")\n",
    "plt.legend()"
   ]
  },
  {
   "cell_type": "code",
   "execution_count": null,
   "metadata": {},
   "outputs": [],
   "source": [
    "plt.figure(figsize=(8, 6))\n",
    "df.groupby(\"city\")[\"realSum\"].mean().plot(kind=\"bar\", color=[\"blue\", \"red\", \"green\"])\n",
    "plt.title(\"Média de Preço por Cidade\")\n",
    "plt.xlabel(\"Cidade\")\n",
    "plt.ylabel(\"Preço Médio (€)\")\n",
    "plt.show()"
   ]
  },
  {
   "cell_type": "markdown",
   "metadata": {},
   "source": [
    "# Pré-Processamento dos Dados"
   ]
  },
  {
   "cell_type": "code",
   "execution_count": null,
   "metadata": {},
   "outputs": [],
   "source": [
    "df_original['room_shared'] = df_original['room_shared'].astype(int)\n",
    "df_original['room_private'] = df_original['room_private'].astype(int)\n",
    "df_original['host_is_superhost'] = df_original['host_is_superhost'].astype(int)\n",
    "df_original['room_type'] = df_original['room_type'].astype('category')\n",
    "df_original['type'] = df_original['type'].astype('category')\n",
    "df_original['city'] = df_original['city'].astype('category')\n"
   ]
  },
  {
   "cell_type": "code",
   "execution_count": null,
   "metadata": {},
   "outputs": [],
   "source": [
    "df_original.dtypes"
   ]
  },
  {
   "cell_type": "markdown",
   "metadata": {},
   "source": [
    "Removendo outliers"
   ]
  },
  {
   "cell_type": "code",
   "execution_count": null,
   "metadata": {},
   "outputs": [],
   "source": [
    "Q1 = df_original['realSum'].quantile(0.25)\n",
    "Q3 = df_original['realSum'].quantile(0.75)\n",
    "IQR = Q3 - Q1\n",
    "\n",
    "df_original = df_original[(df_original['realSum'] >= Q1 - 1.5 * IQR) & (df_original['realSum'] <= Q3 + 1.5 * IQR)]"
   ]
  },
  {
   "cell_type": "markdown",
   "metadata": {},
   "source": [
    "One-Hot Encoding"
   ]
  },
  {
   "cell_type": "code",
   "execution_count": null,
   "metadata": {},
   "outputs": [],
   "source": [
    "df_original  = pd.get_dummies(df_original, columns=['room_type', 'type', 'city'], drop_first=True)"
   ]
  },
  {
   "cell_type": "code",
   "execution_count": null,
   "metadata": {},
   "outputs": [],
   "source": [
    "y = df_original['realSum']\n",
    "X = df_original.drop(columns=['realSum'])"
   ]
  },
  {
   "cell_type": "markdown",
   "metadata": {},
   "source": [
    "Divisão treino e teste"
   ]
  },
  {
   "cell_type": "code",
   "execution_count": null,
   "metadata": {},
   "outputs": [],
   "source": [
    "X_train, X_teste, y_train, y_teste = train_test_split(\n",
    "    X, y, test_size=0.2, random_state=42\n",
    ")"
   ]
  },
  {
   "cell_type": "markdown",
   "metadata": {},
   "source": [
    "# Criando o Modelo"
   ]
  },
  {
   "cell_type": "markdown",
   "metadata": {},
   "source": [
    "### Regressão Linear"
   ]
  },
  {
   "cell_type": "code",
   "execution_count": null,
   "metadata": {},
   "outputs": [],
   "source": [
    "modelo = LinearRegression()\n",
    "modelo.fit(X_train, y_train)"
   ]
  },
  {
   "cell_type": "code",
   "execution_count": null,
   "metadata": {},
   "outputs": [],
   "source": [
    "y_pred = modelo.predict(X_teste)\n",
    "\n",
    "mae = mean_absolute_error(y_teste, y_pred)\n",
    "r2 = r2_score(y_teste, y_pred)\n",
    "\n",
    "print(f'MAE: {mae:.2f}')\n",
    "print(f'R²: {r2:.2f}')"
   ]
  },
  {
   "cell_type": "markdown",
   "metadata": {},
   "source": [
    "### Árvore de Regressão"
   ]
  },
  {
   "cell_type": "code",
   "execution_count": null,
   "metadata": {},
   "outputs": [],
   "source": [
    "from sklearn.ensemble import RandomForestRegressor\n",
    "from sklearn.metrics import mean_absolute_error, r2_score\n",
    "\n",
    "rf_model = RandomForestRegressor(n_estimators=100, random_state=42)\n",
    "\n",
    "rf_model.fit(X_train, y_train)\n",
    "\n",
    "y_pred_rf = rf_model.predict(X_teste)\n",
    "\n",
    "mae_rf = mean_absolute_error(y_teste, y_pred_rf)\n",
    "r2_rf = r2_score(y_teste, y_pred_rf)\n",
    "\n",
    "print(f\"Random Forest - MAE: {mae_rf:.2f}\")\n",
    "print(f\"Random Forest - R²: {r2_rf:.2f}\")\n"
   ]
  },
  {
   "cell_type": "markdown",
   "metadata": {},
   "source": [
    "### Ridge"
   ]
  },
  {
   "cell_type": "code",
   "execution_count": null,
   "metadata": {},
   "outputs": [],
   "source": [
    "from sklearn.linear_model import Ridge\n",
    "from sklearn.metrics import mean_absolute_error, r2_score\n",
    "\n",
    "ridge = Ridge(alpha=1.0)\n",
    "ridge.fit(X_train, y_train)\n",
    "pred_ridge = ridge.predict(X_teste)\n",
    "\n",
    "mae_ridge = mean_absolute_error(y_teste, pred_ridge)\n",
    "r2_ridge =  r2_score(y_teste, pred_ridge)\n",
    "\n",
    "print(\"Ridge\")\n",
    "print(f\"MAE: {mae_ridge:.2f}\")\n",
    "print(f\"R²: {r2_ridge:.2f}\")\n"
   ]
  },
  {
   "cell_type": "markdown",
   "metadata": {},
   "source": [
    "### ElasticNet"
   ]
  },
  {
   "cell_type": "code",
   "execution_count": null,
   "metadata": {},
   "outputs": [],
   "source": [
    "from sklearn.linear_model import ElasticNet\n",
    "from sklearn.preprocessing import StandardScaler\n",
    "from sklearn.pipeline import make_pipeline\n",
    "from sklearn.metrics import mean_absolute_error, r2_score\n",
    "\n",
    "elastic_model = make_pipeline(\n",
    "    StandardScaler(),\n",
    "    ElasticNet(alpha=1.0, l1_ratio=0.5, random_state=42)\n",
    ")\n",
    "\n",
    "elastic_model.fit(X_train, y_train)\n",
    "\n",
    "y_pred_elastic = elastic_model.predict(X_teste)\n",
    "\n",
    "mae_elastic = mean_absolute_error(y_teste, y_pred_elastic)\n",
    "r2_elastic = r2_score(y_teste, y_pred_elastic)\n",
    "\n",
    "print(f\"ElasticNet - MAE: {mae_elastic:.2f}\")\n",
    "print(f\"ElasticNet - R²: {r2_elastic:.2f}\")\n"
   ]
  },
  {
   "cell_type": "markdown",
   "metadata": {},
   "source": [
    "### XGBoost"
   ]
  },
  {
   "cell_type": "code",
   "execution_count": null,
   "metadata": {},
   "outputs": [],
   "source": [
    "from xgboost import XGBRegressor\n",
    "from sklearn.metrics import mean_absolute_error, r2_score\n",
    "\n",
    "xgb_model = XGBRegressor(n_estimators=100, max_depth=6, learning_rate=0.1,\n",
    "reg_alpha=0.5, reg_lambda=1.0, random_state=42)\n",
    "\n",
    "xgb_model.fit(X_train, y_train)\n",
    "\n",
    "y_pred_xgb = xgb_model.predict(X_teste)\n",
    "\n",
    "mae_xgb = mean_absolute_error(y_teste, y_pred_xgb)\n",
    "r2_xgb = r2_score(y_teste, y_pred_xgb)\n",
    "\n",
    "print(f\"XGBoost - MAE: {mae_xgb:.2f}\")\n",
    "print(f\"XGBoost - R²: {r2_xgb:.2f}\")\n"
   ]
  }
 ],
 "metadata": {
  "kernelspec": {
   "display_name": "Python 3",
   "language": "python",
   "name": "python3"
  },
  "language_info": {
   "codemirror_mode": {
    "name": "ipython",
    "version": 3
   },
   "file_extension": ".py",
   "mimetype": "text/x-python",
   "name": "python",
   "nbconvert_exporter": "python",
   "pygments_lexer": "ipython3",
   "version": "3.13.2"
  }
 },
 "nbformat": 4,
 "nbformat_minor": 2
}
